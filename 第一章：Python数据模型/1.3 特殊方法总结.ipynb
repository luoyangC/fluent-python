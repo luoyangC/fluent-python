{
 "cells": [
  {
   "cell_type": "markdown",
   "metadata": {},
   "source": [
    "# 特殊方法总结"
   ]
  },
  {
   "cell_type": "markdown",
   "metadata": {},
   "source": [
    "## 如何使用特殊方法\n",
    "\n",
    "首先明确一点，特殊方法的存在是为了被Python解释器调用的，我们自己往往不需要直接调用。也就是说没有 `my_objct.__len__()` 这种方法，这不建议使用 `my_object.size()` （自己实现一个 `size` 方法）这样的方式，而应该使用 `len(my_object)` 。在执行 `len(my_object)` 的时候，如果 `my_object` 是一个自定义的对象，那么Python会自己去调用其中实现的 `__len__` 方法。\n",
    "\n",
    "然而如果是Python内置的类型，那么CPython会抄个进路， `__len__` 实际上会直接返回 `PyVarObject` 里的 `ob_size` 属性。\n",
    "\n",
    "很多时候，特殊方法的调用是隐式的，比如 `for i in ls:` 这个语句，背后其实使用的是 `iter(ls)` ，而这个内置函数的背后则是 `ls.__iter__()` 方法，当然前提是 `ls` 中实现了该方法。\n",
    "\n",
    "通常在代码中无需直接使用特殊方法，除非有大量的元编程存在，直接调用特殊方法的频率应该远远低于你去实现它的次数。唯一的例外可能是 `__init__` 方法，在子类中调用超类的构造器的时候会用到。"
   ]
  },
  {
   "cell_type": "markdown",
   "metadata": {},
   "source": [
    "## 特殊方法一览\n",
    "\n",
    "__跟运算符无关的特殊方法：__\n",
    "\n",
    "|类型|方法名|\n",
    "|---|---|\n",
    "|字符串输出| `__repr__`、`__str__`、`__format__`、`__bytes__` |\n",
    "|数值转换|`__abs__`、`__bool__`、`__complex__`、`__int__`、`__float__`、`__hash__`、`__index__`|\n",
    "|集合模拟|`__len__`、`__getitem`、`__setitem__`、`__delitem__`、`__contains__`|\n",
    "|迭代枚举|`__iter__`、`__reversed__`、`__next__`|\n",
    "|可调用模拟|`__call__`|\n",
    "|上下文管理|`__enter__`、`__exit__`|\n",
    "|实例创建和销毁|`__new__`、`__init__`、`__del__`|\n",
    "|属性管理|`__getattr__`、`__getattribute__`、`__setattr__`、`__delattr__`、`__dir__`|\n",
    "|属性描述符|`__get__`、`__set__`、`__delete__`|\n",
    "|跟类相关的服务|`__prepare__`、`__instancecheck__`、`__subclasscheck__`|\n",
    "\n",
    "__跟运算符相关的特殊方法：__\n",
    "\n",
    "|类型|方法名|\n",
    "|---|---|\n",
    "|一元运算符|`__neg__ -`、`__pos__ +`、`__abs__ abs()`|\n",
    "|比较运算符|`__lt__ <`、`__le__ <=`、`__eq__ ==`、`__ne__ !=`、`__gt__ >`、`__ge__ >=`|\n",
    "|算术运算符|`__add__ +`、`__sub__ -`、`__mul__ *`、`__truediv__ /`、`__floordiv__ //`、`__mod__ %`、`__divmod__ divmod()`、`__pow__ **`、`__round__ round()`|\n",
    "|反向算术运算符|`__radd__`、`__rsub__`、`__rmul__`、`__rtruediv__`、`__rfloordiv__`、`__rmod__`、`__rdivmod__`、`__rpow__`|\n",
    "|增量赋值算术运算符|`__iadd__`、`__isub__`、`__imul__`、`__itruediv__`、`__ifloordiv__`、`__imod__`、`__ipow__`|\n",
    "|位运算符|`__invert__ ~`、`__lshift__ <<`、`__rshift__ >>`、`__and__ &`、`__or__\\|`、`__xor__ ^`|\n",
    "|反向位运算符|`__rlshift__`、`__rrshift__`、`__rand__`、`__ror__`、`__rxor__`|\n",
    "|增量赋值位运算符|`__ilshift__`、`__irshift__`、`__iand__`、`__ixor__`、`__ior__`|"
   ]
  }
 ],
 "metadata": {
  "kernelspec": {
   "display_name": "Python 3",
   "language": "python",
   "name": "python3"
  },
  "language_info": {
   "codemirror_mode": {
    "name": "ipython",
    "version": 3
   },
   "file_extension": ".py",
   "mimetype": "text/x-python",
   "name": "python",
   "nbconvert_exporter": "python",
   "pygments_lexer": "ipython3",
   "version": "3.7.2"
  }
 },
 "nbformat": 4,
 "nbformat_minor": 2
}
