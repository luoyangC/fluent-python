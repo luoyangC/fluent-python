{
 "cells": [
  {
   "cell_type": "markdown",
   "metadata": {},
   "source": [
    "# 一摞Python风格的纸牌\n",
    "\n",
    "Python最好的品质之一就是其编码风格的一致性，这种风格也被称为Pythonic，Pythonic就是Python的设计思想，这种设计思想完全体现在Python的数据模型上，而数据模型所描述的API，为使用最地道的语言特性来构建你自己的对象提供了工具。\n",
    "\n",
    "数据模型其实是对Python框架的描述，它规范了这门语言自身构建模块的接口，这些模块包括但不限于序列、迭代器、函数、类和上下文管理器。\n",
    "\n",
    "不管在那种框架下写程序，都需要去实现很多那些会被框架本身调用的方法，Python也是。Python解释器碰到特殊的句法时，会使用特殊方法去激活一些基本的对象操作，这些特殊的方法名字以两个下划线开头两个下划线结尾（例如 `__getitem__`）。\n",
    "\n",
    "这些特殊方法能让你自己的对象实现和支持以下语言构架，并与之交互：\n",
    "\n",
    "- 迭代\n",
    "- 集合类\n",
    "- 属性访问\n",
    "- 运算符重载\n",
    "- 函数和方法的调用\n",
    "- 对象的创建和销毁\n",
    "- 字符串表达形式和格式化\n",
    "- 管理上下文（即 `with` 块）\n",
    "\n",
    "下面以一个简单的例子展示如何实现 `__getitem__` 和 `__len__` 这两个魔法方法。\n",
    "\n",
    "在该例子中，我们建立了一个包含52张纸牌的类："
   ]
  },
  {
   "cell_type": "code",
   "execution_count": 1,
   "metadata": {},
   "outputs": [],
   "source": [
    "import collections\n",
    "\n",
    "Card = collections.namedtuple('Card', ['rank', 'suit'])\n",
    "\n",
    "class FrenchDeck(object):\n",
    "    \n",
    "    ranks = [str(i) for i in range(2, 11)] + list('JQKA')\n",
    "    suits = '黑桃 方块 梅花 红心'.split()\n",
    "    \n",
    "    def __init__(self):\n",
    "        self._cards = [Card(rank, suit) for suit in self.suits for rank in self.ranks]\n",
    "    \n",
    "    def __len__(self):\n",
    "        return len(self._cards)\n",
    "    \n",
    "    def __getitem__(self, position):\n",
    "        return self._cards[position]\n",
    "    \n",
    "deck = FrenchDeck()"
   ]
  },
  {
   "cell_type": "markdown",
   "metadata": {},
   "source": [
    "首先我们用 `collections.namedtuple` 构建了一个简单的类来表示纸牌，`namedtuple` 一般用于构建只有少数属性且没有方法的对象。\n",
    "\n",
    "如下面的例子中，利用它可以轻松的得到一个纸牌对象："
   ]
  },
  {
   "cell_type": "code",
   "execution_count": 2,
   "metadata": {},
   "outputs": [
    {
     "name": "stdout",
     "output_type": "stream",
     "text": [
      "Card(rank='7', suit='黑桃')\n"
     ]
    }
   ],
   "source": [
    "beer_card = Card('7', '黑桃')\n",
    "print(beer_card)"
   ]
  },
  {
   "cell_type": "markdown",
   "metadata": {},
   "source": [
    "当然，我们这个例子中主要关注的还是 `FrenchDeck` 这个类，它跟任何Python的集合类型一样，可以用 `len()` 函数来查看一叠纸牌的张数。"
   ]
  },
  {
   "cell_type": "code",
   "execution_count": 3,
   "metadata": {},
   "outputs": [
    {
     "data": {
      "text/plain": [
       "52"
      ]
     },
     "execution_count": 3,
     "metadata": {},
     "output_type": "execute_result"
    }
   ],
   "source": [
    "len(deck)"
   ]
  },
  {
   "cell_type": "markdown",
   "metadata": {},
   "source": [
    "从一叠纸牌中抽取特定的一张纸牌，比如第一张或最后一张，是很容易的：`deck[0]` 或 `deck[-1]`。\n",
    "\n",
    "这都是由 `__getitem__` 方法提供的："
   ]
  },
  {
   "cell_type": "code",
   "execution_count": 4,
   "metadata": {},
   "outputs": [
    {
     "data": {
      "text/plain": [
       "Card(rank='2', suit='黑桃')"
      ]
     },
     "execution_count": 4,
     "metadata": {},
     "output_type": "execute_result"
    }
   ],
   "source": [
    "deck[0]"
   ]
  },
  {
   "cell_type": "code",
   "execution_count": 5,
   "metadata": {},
   "outputs": [
    {
     "data": {
      "text/plain": [
       "Card(rank='A', suit='红心')"
      ]
     },
     "execution_count": 5,
     "metadata": {},
     "output_type": "execute_result"
    }
   ],
   "source": [
    "deck[-1]"
   ]
  },
  {
   "cell_type": "markdown",
   "metadata": {},
   "source": [
    "如果需要随机的抽取一张纸牌，我们需要单独的编写一个方法或函数吗？\n",
    "\n",
    "没必要，我们完全可以使用Python标准库中内置的 `random.choice`，直接把它用到这一摞纸牌实例上就好："
   ]
  },
  {
   "cell_type": "code",
   "execution_count": 6,
   "metadata": {},
   "outputs": [
    {
     "data": {
      "text/plain": [
       "Card(rank='3', suit='方块')"
      ]
     },
     "execution_count": 6,
     "metadata": {},
     "output_type": "execute_result"
    }
   ],
   "source": [
    "from random import choice\n",
    "\n",
    "choice(deck)"
   ]
  },
  {
   "cell_type": "markdown",
   "metadata": {},
   "source": [
    "因为 `__getitem__` 方法把 `[]` 操作交给了 `self._cards` 列表，所以我们的 `deck` 对象自动支持切片操作。\n",
    "\n",
    "下面以获取一摞纸牌最上面3张和只看牌面为A的纸牌的操作为例："
   ]
  },
  {
   "cell_type": "code",
   "execution_count": 7,
   "metadata": {},
   "outputs": [
    {
     "data": {
      "text/plain": [
       "[Card(rank='2', suit='黑桃'),\n",
       " Card(rank='3', suit='黑桃'),\n",
       " Card(rank='4', suit='黑桃')]"
      ]
     },
     "execution_count": 7,
     "metadata": {},
     "output_type": "execute_result"
    }
   ],
   "source": [
    "deck[:3]"
   ]
  },
  {
   "cell_type": "code",
   "execution_count": 8,
   "metadata": {},
   "outputs": [
    {
     "data": {
      "text/plain": [
       "[Card(rank='A', suit='黑桃'),\n",
       " Card(rank='A', suit='方块'),\n",
       " Card(rank='A', suit='梅花'),\n",
       " Card(rank='A', suit='红心')]"
      ]
     },
     "execution_count": 8,
     "metadata": {},
     "output_type": "execute_result"
    }
   ],
   "source": [
    "deck[12::13]"
   ]
  },
  {
   "cell_type": "markdown",
   "metadata": {},
   "source": [
    "另外，仅仅实现了 `__getitem__` 方法，这个对象就自动变成可迭代对象了："
   ]
  },
  {
   "cell_type": "code",
   "execution_count": 9,
   "metadata": {},
   "outputs": [
    {
     "name": "stdout",
     "output_type": "stream",
     "text": [
      "Card(rank='2', suit='黑桃')\n",
      "Card(rank='3', suit='黑桃')\n",
      "Card(rank='4', suit='黑桃')\n",
      "Card(rank='5', suit='黑桃')\n",
      "Card(rank='6', suit='黑桃')\n",
      "......\n"
     ]
    }
   ],
   "source": [
    "for card in deck[:5]:\n",
    "    print(card)\n",
    "    \n",
    "print('.' * 6)"
   ]
  },
  {
   "cell_type": "markdown",
   "metadata": {},
   "source": [
    "至于排序，我们可以按照常规的方式来判断纸牌的大小，2最小A最大；同时对于花色，黑桃最大、红心次之、方块再次、梅花最小。\n",
    "\n",
    "下面按照这个规则来实现排序函数："
   ]
  },
  {
   "cell_type": "code",
   "execution_count": 10,
   "metadata": {},
   "outputs": [],
   "source": [
    "suit_values = {'黑桃': 3, '红心': 2, '方块': 1, '梅花': 0}\n",
    "\n",
    "def spades_high(card):\n",
    "    rank_value = FrenchDeck.ranks.index(card.rank)\n",
    "    return rank_value * len(suit_values) + suit_values[card.suit]"
   ]
  },
  {
   "cell_type": "code",
   "execution_count": 11,
   "metadata": {},
   "outputs": [
    {
     "name": "stdout",
     "output_type": "stream",
     "text": [
      "Card(rank='2', suit='黑桃')\n",
      "Card(rank='3', suit='黑桃')\n",
      "Card(rank='4', suit='黑桃')\n",
      "Card(rank='5', suit='黑桃')\n",
      "Card(rank='6', suit='黑桃')\n",
      "......\n"
     ]
    }
   ],
   "source": [
    "for card in sorted(deck[:5], key=spades_high):\n",
    "    print(card)\n",
    "\n",
    "print('.' * 6)"
   ]
  }
 ],
 "metadata": {
  "kernelspec": {
   "display_name": "Python 3",
   "language": "python",
   "name": "python3"
  },
  "language_info": {
   "codemirror_mode": {
    "name": "ipython",
    "version": 3
   },
   "file_extension": ".py",
   "mimetype": "text/x-python",
   "name": "python",
   "nbconvert_exporter": "python",
   "pygments_lexer": "ipython3",
   "version": "3.7.2"
  }
 },
 "nbformat": 4,
 "nbformat_minor": 2
}
