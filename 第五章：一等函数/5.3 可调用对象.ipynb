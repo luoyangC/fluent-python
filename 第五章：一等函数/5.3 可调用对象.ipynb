{
 "cells": [
  {
   "cell_type": "markdown",
   "metadata": {},
   "source": [
    "# 可调用对象\n",
    "\n",
    "除了用户定义的函数，调用运算符还可以应用到其他对象上。\n",
    "\n",
    "Python数据模型文档列出了7种可调用对象。\n",
    "\n",
    "* 用户定义的函数\n",
    "\n",
    "    使用 `def` 语句或 `lambda` 表达式创建\n",
    "    \n",
    "* 内置函数\n",
    "\n",
    "    使用C语言（CPython）实现的函数，如 `len`\n",
    "    \n",
    "* 内置方法\n",
    "\n",
    "    使用C语言实现的方法，如 `dict.get`\n",
    "    \n",
    "* 用户定义的方法\n",
    "\n",
    "    在类的定义体中定义的函数\n",
    "    \n",
    "* 类\n",
    "\n",
    "    调用类时会运行类的 `__new__` 方法创建一个实例，然后运行 `__init__` 方法，初始化实例，最后把实例返回给调用方\n",
    "    \n",
    "* 类的实例\n",
    "\n",
    "    如果类定义了 `__call__` 方法，那么它的实例可以作为函数调用\n",
    "    \n",
    "* 生成器函数\n",
    "    \n",
    "    使用 `yield` 关键字或方法\n",
    "    \n",
    "如果要判断对象能否调用，可以使用内置的 `callable()` 函数。"
   ]
  },
  {
   "cell_type": "code",
   "execution_count": 1,
   "metadata": {},
   "outputs": [
    {
     "data": {
      "text/plain": [
       "[True, True, False]"
      ]
     },
     "execution_count": 1,
     "metadata": {},
     "output_type": "execute_result"
    }
   ],
   "source": [
    "[callable(obj) for obj in (str, abs, 18)]"
   ]
  },
  {
   "cell_type": "markdown",
   "metadata": {},
   "source": [
    "## 用户定义的可调用类型\n",
    "\n",
    "前面提到 Python 对象也可以表现得像函数，只需要实现 `__call__` 方法"
   ]
  },
  {
   "cell_type": "code",
   "execution_count": 2,
   "metadata": {},
   "outputs": [],
   "source": [
    "import random\n",
    "\n",
    "class BingoCage:\n",
    "    def __init__(self, items):\n",
    "        self._items = list(items)\n",
    "        random.shuffle(self._items)\n",
    "        \n",
    "    def pick(self):\n",
    "        try:\n",
    "            return self._items.pop()\n",
    "        except IndexError:\n",
    "            raise LookupError('pick from empty BingoCage')\n",
    "            \n",
    "    def __call__(self):\n",
    "        return self.pick()"
   ]
  },
  {
   "cell_type": "code",
   "execution_count": 3,
   "metadata": {},
   "outputs": [
    {
     "data": {
      "text/plain": [
       "0"
      ]
     },
     "execution_count": 3,
     "metadata": {},
     "output_type": "execute_result"
    }
   ],
   "source": [
    "bingo = BingoCage(range(3))\n",
    "bingo.pick()"
   ]
  },
  {
   "cell_type": "code",
   "execution_count": 4,
   "metadata": {},
   "outputs": [
    {
     "data": {
      "text/plain": [
       "2"
      ]
     },
     "execution_count": 4,
     "metadata": {},
     "output_type": "execute_result"
    }
   ],
   "source": [
    "bingo()"
   ]
  },
  {
   "cell_type": "code",
   "execution_count": 5,
   "metadata": {},
   "outputs": [
    {
     "data": {
      "text/plain": [
       "True"
      ]
     },
     "execution_count": 5,
     "metadata": {},
     "output_type": "execute_result"
    }
   ],
   "source": [
    "callable(bingo)"
   ]
  },
  {
   "cell_type": "markdown",
   "metadata": {},
   "source": [
    "## 函数得内省\n",
    "\n",
    "函数对象和大多数Python对象一样，拥有许多相同得属性，但是，函数对象也有一些它自身特有的属性。\n",
    "\n",
    "下面通过一个例子来看一下，函数对象比普通对象多了那些属性。"
   ]
  },
  {
   "cell_type": "code",
   "execution_count": 6,
   "metadata": {},
   "outputs": [
    {
     "data": {
      "text/plain": [
       "['__annotations__',\n",
       " '__call__',\n",
       " '__closure__',\n",
       " '__code__',\n",
       " '__defaults__',\n",
       " '__get__',\n",
       " '__globals__',\n",
       " '__kwdefaults__',\n",
       " '__name__',\n",
       " '__qualname__']"
      ]
     },
     "execution_count": 6,
     "metadata": {},
     "output_type": "execute_result"
    }
   ],
   "source": [
    "class C: pass\n",
    "obj = C()\n",
    "\n",
    "def func(): pass\n",
    "\n",
    "sorted(set(dir(func)) - set(dir(obj)))"
   ]
  },
  {
   "cell_type": "markdown",
   "metadata": {},
   "source": [
    "函数对象特有属性介绍\n",
    "\n",
    "|名称|类型|说明|\n",
    "|---|---|---|\n",
    "|`__annotations__`|dict|参数和返回值得注解|\n",
    "|`__call__`|method-wrapper|实现()运算符；即可调用对象协议|\n",
    "|`__closure__`|tuple|函数闭包，即自由变量得绑定|\n",
    "|`__code__`|code|编译成字节码得函数元数据和函数定义体|\n",
    "|`__defaults__`|tuple|形式参数得默认值|\n",
    "|`__get__`|method-wrapper|实现只读描述符协议|\n",
    "|`__globals__`|dict|函数所在模块中的全局变量|\n",
    "|`__kwdefaults__`|dict|仅限关键字形式参数得默认值|\n",
    "|`__name__`|str|函数名称|\n",
    "|`__qualname__`|str|函数得限定名称|"
   ]
  }
 ],
 "metadata": {
  "kernelspec": {
   "display_name": "Python 3",
   "language": "python",
   "name": "python3"
  },
  "language_info": {
   "codemirror_mode": {
    "name": "ipython",
    "version": 3
   },
   "file_extension": ".py",
   "mimetype": "text/x-python",
   "name": "python",
   "nbconvert_exporter": "python",
   "pygments_lexer": "ipython3",
   "version": "3.7.2"
  }
 },
 "nbformat": 4,
 "nbformat_minor": 2
}
