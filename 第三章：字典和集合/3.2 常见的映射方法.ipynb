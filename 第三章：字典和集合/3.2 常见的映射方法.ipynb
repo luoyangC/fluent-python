{
 "cells": [
  {
   "cell_type": "markdown",
   "metadata": {},
   "source": [
    "# 常见的映射方法\n",
    "\n",
    "映射类型的方法相当丰富。下面介绍一个 `dict` 、 `defaultdict` 和 `OrderedDict` 的常见方法，后面两个是对 `dict` 的扩展，位于 `collections` 模块内：\n",
    "\n",
    "|方法|dict|defaultdict|OrderedDict|作用|\n",
    "|---|---|---|---|---|\n",
    "|`d.get(k, [default])`|·|·|·|返回键k对应的值，如果字典里没有键k，则返回None或者default|\n",
    "|`d.fromkeys(it, [initial])`|·|·|·|键迭代器it里的元素设置为映射里的键，如果有`initial`函数，就将它作为这些键对应的值（默认为None）|\n",
    "|`d.clear()`|·|·|·|移除所有元素|\n",
    "|`d.copy()`|·|·|·|浅复制|\n",
    "|`d.keys()`|·|·|·|获取所有的键|\n",
    "|`d.values()`|·|·|·|返回字典里的所有值|\n",
    "|`d.items()`|·|·|·|返回d里所有的键值对|\n",
    "|`d.move_to_end(k, [last])`|0|0|·|把键为k的元素移动到最靠前或者最靠后的位置（last的默认值是True）|\n",
    "|`d.setdefault(k, [default])`|·|·|·|若字典里有k，则直接返回k对应的值；若无，则让`d[k] = default`然后返回default|\n",
    "|`d.pop(k, [default])`|·|·|·|返回键k所对应的值，然后移除这个键值对。如果没有这个键，返回None或者default|\n",
    "|`d.popitem()`|·|·|·|随机返回一个键值对，并移除它|\n",
    "|`d.update(m, [**kwargs])`|·|·|·|m可以是映射，或者键值对迭代器，用来更新d里对应的条目|\n",
    "|`d.default_factory`|0|·|0|在`__missing__`函数中被调用的函数，用于给未找到的元素设置值|\n",
    "|`d.__contains__(k)`|·|·|·|检查k是否在d中|\n",
    "|`d.__copy__()`|0|·|0|用于支持`copy.copy`|\n",
    "|`d.__delitem__(k)`|·|·|·|`del d[k]`，移除键为k的元素|\n",
    "|`d.__getitem__(k)`|·|·|·|让字典d能用`d[k]`的形式返回键k对应的值|\n",
    "|`d.__iter__()`|·|·|·|获取键的迭代器|\n",
    "|`d.__len__()`|·|·|·|可以用`len(d)`的形式获取字典中键值对的数量|\n",
    "|`d.__missing__(k)`|0|·|0|当`__getitem__`找不到对应的键的时候，这个方法会被调用|\n",
    "|`d.__reversed__()`|·|·|·|返回倒序的键的迭代器|\n",
    "|`d.__setitem__(k, v)`|·|·|·|实现`d[k] = v`的操作，把k对应的值设为v|"
   ]
  },
  {
   "cell_type": "markdown",
   "metadata": {},
   "source": [
    "## update更新字典\n",
    "\n",
    "介绍一下 `update` 方法，它接受的第一个参数 m 是一个典型的“鸭子类型”。\n",
    "\n",
    "函数首先检查 m 是否有 `keys` 方法，如果有，那么就把它当作映射类型处理。否则，函数会退一步，转而把 m 当作包含键值对 `(key, value)` 元素的迭代器。\n",
    "\n",
    "同时 `update` 的可选参数 `**kwargs` 可以使得你可以任意追加关键字参数到字典中。"
   ]
  },
  {
   "cell_type": "code",
   "execution_count": 6,
   "metadata": {},
   "outputs": [],
   "source": [
    "a = {'one': 1}\n",
    "\n",
    "b = {'two': 2}\n",
    "c = [('three', 3)]"
   ]
  },
  {
   "cell_type": "code",
   "execution_count": 7,
   "metadata": {},
   "outputs": [
    {
     "data": {
      "text/plain": [
       "{'one': 1, 'two': 2}"
      ]
     },
     "execution_count": 7,
     "metadata": {},
     "output_type": "execute_result"
    }
   ],
   "source": [
    "a.update(b)\n",
    "a"
   ]
  },
  {
   "cell_type": "code",
   "execution_count": 8,
   "metadata": {},
   "outputs": [
    {
     "data": {
      "text/plain": [
       "{'one': 1, 'two': 2, 'three': 3, 'ten': 10}"
      ]
     },
     "execution_count": 8,
     "metadata": {},
     "output_type": "execute_result"
    }
   ],
   "source": [
    "a.update(c, ten=10)\n",
    "a"
   ]
  },
  {
   "cell_type": "markdown",
   "metadata": {},
   "source": [
    "## setdefault处理找不到的键\n",
    "\n",
    "当字典 `d[k]` 不能找到对应的键的时候，会抛出异常，虽然可以使用 `d.get(k, default)` 来替代 `d[k]`，来给找不到的键一个默认值。\n",
    "\n",
    "但是更新某个值的时候就不太好用了。如下面的例子："
   ]
  },
  {
   "cell_type": "code",
   "execution_count": 48,
   "metadata": {},
   "outputs": [],
   "source": [
    "d = {'one': [0, 1, 2]}"
   ]
  },
  {
   "cell_type": "markdown",
   "metadata": {},
   "source": [
    "当字典的值是一个列表或其他容器的时候，我们需要向容器里面添加数据时，就不太方便了，需要先判断键是否存在，才能向里面添加数据。"
   ]
  },
  {
   "cell_type": "code",
   "execution_count": 49,
   "metadata": {},
   "outputs": [],
   "source": [
    "for i in range(3, 6):\n",
    "    if 'two' not in d:\n",
    "        d['two'] = []\n",
    "    d['two'].append(i)"
   ]
  },
  {
   "cell_type": "markdown",
   "metadata": {},
   "source": [
    "这时就可以使用 `setdefault`"
   ]
  },
  {
   "cell_type": "code",
   "execution_count": 50,
   "metadata": {},
   "outputs": [],
   "source": [
    "for i in range(6, 9):\n",
    "    d.setdefault('three', []).append(i)"
   ]
  },
  {
   "cell_type": "code",
   "execution_count": 51,
   "metadata": {},
   "outputs": [
    {
     "data": {
      "text/plain": [
       "{'one': [0, 1, 2], 'two': [3, 4, 5], 'three': [6, 7, 8]}"
      ]
     },
     "execution_count": 51,
     "metadata": {},
     "output_type": "execute_result"
    }
   ],
   "source": [
    "d"
   ]
  },
  {
   "cell_type": "code",
   "execution_count": null,
   "metadata": {},
   "outputs": [],
   "source": []
  }
 ],
 "metadata": {
  "kernelspec": {
   "display_name": "Python 3",
   "language": "python",
   "name": "python3"
  },
  "language_info": {
   "codemirror_mode": {
    "name": "ipython",
    "version": 3
   },
   "file_extension": ".py",
   "mimetype": "text/x-python",
   "name": "python",
   "nbconvert_exporter": "python",
   "pygments_lexer": "ipython3",
   "version": "3.7.2"
  }
 },
 "nbformat": 4,
 "nbformat_minor": 2
}
