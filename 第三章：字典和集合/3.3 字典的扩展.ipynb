{
 "cells": [
  {
   "cell_type": "markdown",
   "metadata": {},
   "source": [
    "# 字典的扩展\n",
    "\n",
    "除了默认的dict以外，在标准库里 `collections` 模块中，还提供了一些默认dict的扩展。"
   ]
  },
  {
   "cell_type": "markdown",
   "metadata": {},
   "source": [
    "## defaultdict\n",
    "\n",
    "在用户创建defaultdict的对象的时候，就需要给它配置一个为找不到的键创造默认值的方法。\n",
    "\n",
    "具体而言，在实例化一个defaultdict的时候，需要给构造方法提供一个可调用对象，这个可调用对象会在 `__getitem__` 碰到找不到的键的时候被调用，让 `__getitem__` 返回某种默认值。\n",
    "\n",
    "如，我们新建一个这样的字典：`dd = defaultdict(list)` ，如果使用 `dd[k]` 去获取 k 对应的值时， k 不存在，则会有以下步骤：\n",
    "\n",
    "1. 调用 `list()` 来建立一个新列表\n",
    "2. 把这个新列表作为值， k 作为它的键，放在 dd 中。\n",
    "3. 返回这个列表的引用\n",
    "\n",
    "而这个用来生成默认值的可调用对象存放在名为 `default_factory` 的实例属性里\n",
    "\n",
    "实际上这一切的背后是由于特殊方法 `__missing__` ，它会在找不到键的情况下被调用，然后在它里面调用 `default_factory`\n",
    "\n",
    "所以如果我们需要自定义映射类型时，需要处理或兼容一些找不到或特殊情况，可以考虑实现该方法。"
   ]
  },
  {
   "cell_type": "markdown",
   "metadata": {},
   "source": [
    "## OrderedDict\n",
    "\n",
    "这个类型在添加键的时候会保持顺序，因此键的迭代次序总是一致的。\n",
    "\n",
    "OrderedDict的 `pipitem` 方法默认返回并删除字典的最后一个元素，但是也可以通过指定 `lst=False` 来指定从前面开始出栈。"
   ]
  },
  {
   "cell_type": "code",
   "execution_count": 1,
   "metadata": {},
   "outputs": [
    {
     "data": {
      "text/plain": [
       "OrderedDict([('one', 1), ('two', 2), ('three', 3)])"
      ]
     },
     "execution_count": 1,
     "metadata": {},
     "output_type": "execute_result"
    }
   ],
   "source": [
    "from collections import OrderedDict\n",
    "\n",
    "od = OrderedDict({'one': 1, 'two': 2, 'three': 3})\n",
    "od"
   ]
  },
  {
   "cell_type": "code",
   "execution_count": 2,
   "metadata": {},
   "outputs": [
    {
     "data": {
      "text/plain": [
       "('three', 3)"
      ]
     },
     "execution_count": 2,
     "metadata": {},
     "output_type": "execute_result"
    }
   ],
   "source": [
    "od.popitem()"
   ]
  },
  {
   "cell_type": "code",
   "execution_count": 3,
   "metadata": {},
   "outputs": [
    {
     "data": {
      "text/plain": [
       "('one', 1)"
      ]
     },
     "execution_count": 3,
     "metadata": {},
     "output_type": "execute_result"
    }
   ],
   "source": [
    "od.popitem(last=False)"
   ]
  },
  {
   "cell_type": "markdown",
   "metadata": {},
   "source": [
    "## ChainMap\n",
    "\n",
    "该类型可以容纳多个不同的映射对象，然后在进行键查找操作的时候，这些对象会被当作一个整体被逐一查找，直到键被找到为止。"
   ]
  },
  {
   "cell_type": "code",
   "execution_count": 10,
   "metadata": {},
   "outputs": [
    {
     "data": {
      "text/plain": [
       "'__main__'"
      ]
     },
     "execution_count": 10,
     "metadata": {},
     "output_type": "execute_result"
    }
   ],
   "source": [
    "from collections import ChainMap\n",
    "\n",
    "cm = ChainMap(locals(), globals())\n",
    "cm.get('__name__')"
   ]
  },
  {
   "cell_type": "markdown",
   "metadata": {},
   "source": [
    "## Counter\n",
    "\n",
    "这个映射类型会给键准备一个整数计数器。每次更新一个键的时候都会增加这个计数器。"
   ]
  },
  {
   "cell_type": "code",
   "execution_count": 11,
   "metadata": {},
   "outputs": [
    {
     "data": {
      "text/plain": [
       "Counter({'a': 3, 'b': 2, 'r': 1, 'c': 2, 'd': 1, 's': 1})"
      ]
     },
     "execution_count": 11,
     "metadata": {},
     "output_type": "execute_result"
    }
   ],
   "source": [
    "from collections import Counter\n",
    "\n",
    "ct = Counter('abraccadbs')\n",
    "ct"
   ]
  },
  {
   "cell_type": "code",
   "execution_count": 12,
   "metadata": {},
   "outputs": [
    {
     "data": {
      "text/plain": [
       "Counter({'a': 8, 'b': 2, 'r': 1, 'c': 2, 'd': 1, 's': 1})"
      ]
     },
     "execution_count": 12,
     "metadata": {},
     "output_type": "execute_result"
    }
   ],
   "source": [
    "ct.update('aaaaa')\n",
    "ct"
   ]
  },
  {
   "cell_type": "markdown",
   "metadata": {},
   "source": [
    "## UserDict\n",
    "\n",
    "这个类其实是把标准 dict 用纯Python重新实现了一遍，一般来说不建议直接继承 dict ，而是建议使用 UserDict 来实现我们自己的映射类型。\n",
    "\n",
    "UserDict 有一个叫做data的属性，是dict的实例，这个属性是UserDict最终存储数据的地方。\n",
    "\n",
    "如下面的例子中，将字典的键通通存为 str ，但是同时需要支持通过数字和字符的查询操作："
   ]
  },
  {
   "cell_type": "code",
   "execution_count": 13,
   "metadata": {},
   "outputs": [],
   "source": [
    "from collections import UserDict\n",
    "\n",
    "class StrKeyDict(UserDict):\n",
    "    \n",
    "    def __missing__(self, key):\n",
    "        if isinstance(key, str):\n",
    "            raise KeyError(key)\n",
    "        return self[str(key)]\n",
    "    \n",
    "    def __contains__(self, key):\n",
    "        return str(key) in self.data\n",
    "    \n",
    "    def __setitem__(self, key, item):\n",
    "        self.data[str(key)] = item"
   ]
  },
  {
   "cell_type": "code",
   "execution_count": 14,
   "metadata": {},
   "outputs": [
    {
     "data": {
      "text/plain": [
       "{'2': 'two', '4': 'four'}"
      ]
     },
     "execution_count": 14,
     "metadata": {},
     "output_type": "execute_result"
    }
   ],
   "source": [
    "sd = StrKeyDict([('2', 'two'), ('4', 'four')])\n",
    "sd"
   ]
  },
  {
   "cell_type": "code",
   "execution_count": 16,
   "metadata": {},
   "outputs": [
    {
     "data": {
      "text/plain": [
       "'two'"
      ]
     },
     "execution_count": 16,
     "metadata": {},
     "output_type": "execute_result"
    }
   ],
   "source": [
    "sd['2']"
   ]
  },
  {
   "cell_type": "code",
   "execution_count": 17,
   "metadata": {},
   "outputs": [
    {
     "data": {
      "text/plain": [
       "'four'"
      ]
     },
     "execution_count": 17,
     "metadata": {},
     "output_type": "execute_result"
    }
   ],
   "source": [
    "sd[4]"
   ]
  },
  {
   "cell_type": "code",
   "execution_count": 21,
   "metadata": {},
   "outputs": [
    {
     "data": {
      "text/plain": [
       "{'2': 'two', '4': 'four', '1': 'one', '3': 'three'}"
      ]
     },
     "execution_count": 21,
     "metadata": {},
     "output_type": "execute_result"
    }
   ],
   "source": [
    "sd.update({1: 'one', 3: 'three'})\n",
    "sd"
   ]
  },
  {
   "cell_type": "code",
   "execution_count": 22,
   "metadata": {},
   "outputs": [
    {
     "data": {
      "text/plain": [
       "'one'"
      ]
     },
     "execution_count": 22,
     "metadata": {},
     "output_type": "execute_result"
    }
   ],
   "source": [
    "sd.get(1)"
   ]
  },
  {
   "cell_type": "code",
   "execution_count": null,
   "metadata": {},
   "outputs": [],
   "source": []
  }
 ],
 "metadata": {
  "kernelspec": {
   "display_name": "Python 3",
   "language": "python",
   "name": "python3"
  },
  "language_info": {
   "codemirror_mode": {
    "name": "ipython",
    "version": 3
   },
   "file_extension": ".py",
   "mimetype": "text/x-python",
   "name": "python",
   "nbconvert_exporter": "python",
   "pygments_lexer": "ipython3",
   "version": "3.7.2"
  }
 },
 "nbformat": 4,
 "nbformat_minor": 2
}
