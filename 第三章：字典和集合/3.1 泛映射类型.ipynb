{
 "cells": [
  {
   "cell_type": "markdown",
   "metadata": {},
   "source": [
    "# 泛映射类型\n",
    "\n",
    "dict类型在Python程序中被广泛使用，模块命名空间、实例的属性和函数的关键字参数中都使用了它。跟它有关的内置函数都在 `__builtins__.__dict__` 模块中。\n",
    "\n",
    "正因为它至关重要，Python对它实现了高度优化，其中最关键的是使用了散列表。当然集合的实现也是依赖于散列表。\n",
    " \n",
    "`collections.abc` 模块中有 `Mapping` 和 `MutableMapping` 这两个抽象基类，它们的作用是为dict和其他类似的类型定义形式接口。\n",
    "\n",
    "![map](images/map.png)\n",
    "\n",
    "然而，自定义映射类型时，我们通常不直接继承这些抽象基类，而是继承dict或是 `collections.UserDict` 进行扩展。它们只是定义了映射类型的基本接口。\n",
    "\n",
    "可以通过 `isinstance` 判断某个数据是不是广义上的映射类型："
   ]
  },
  {
   "cell_type": "code",
   "execution_count": 1,
   "metadata": {},
   "outputs": [
    {
     "data": {
      "text/plain": [
       "True"
      ]
     },
     "execution_count": 1,
     "metadata": {},
     "output_type": "execute_result"
    }
   ],
   "source": [
    "from collections import abc\n",
    "\n",
    "my_dict = {}\n",
    "isinstance(my_dict, abc.Mapping)"
   ]
  },
  {
   "cell_type": "markdown",
   "metadata": {},
   "source": [
    "标准库里的所有映射类型都是利用dict来实现的，因此它们有个共同的限制，即只有可散列的数据类型才可以作为这些映射的键。\n",
    "\n",
    "> Python中对于散列的定义：如果一个对象是可散列的，那么在这个对象的生命周期中，它的散列值是不变的，而且这个对象需要实现__hash__()方法。另外可散列对象还要有__eq__()方法，这样才能跟其他键做比较。如果两个可散列对象是相等的，那么它们的散列值一定是一样的。\n",
    "\n",
    "原子不可变数据类型（str、bytes和数值类型）都是可散列类型，其他包括frozenset和只包含可散列类型的元组。"
   ]
  },
  {
   "cell_type": "markdown",
   "metadata": {},
   "source": [
    "根据这些定义，字典提供了很多的构造方法，如下："
   ]
  },
  {
   "cell_type": "code",
   "execution_count": 2,
   "metadata": {},
   "outputs": [
    {
     "data": {
      "text/plain": [
       "True"
      ]
     },
     "execution_count": 2,
     "metadata": {},
     "output_type": "execute_result"
    }
   ],
   "source": [
    "a = {'one': 1, 'two': 2, 'three': 3}\n",
    "b = dict(one=1, two=2, three=3)\n",
    "c = dict(zip(['one', 'two', 'three'], [1, 2, 3]))\n",
    "d = dict([('two', 2), ('one', 1), ('three', 3)])\n",
    "e = dict({'three': 3, 'two': 2, 'one': 1})\n",
    "\n",
    "a == b == c == d == e"
   ]
  },
  {
   "cell_type": "markdown",
   "metadata": {},
   "source": [
    "除了上面的方法，还可以通过字典推导来构建："
   ]
  },
  {
   "cell_type": "code",
   "execution_count": 3,
   "metadata": {},
   "outputs": [],
   "source": [
    "# 一个承载成对数据的列表，它可以直接用在字典的构造方法中\n",
    "DIAL_CODES = [(86, 'China'), (91, 'India'), (62, 'Indonesia'), (55, 'Brazil'), (81, 'Japan')]"
   ]
  },
  {
   "cell_type": "code",
   "execution_count": 4,
   "metadata": {},
   "outputs": [
    {
     "data": {
      "text/plain": [
       "{'China': 86, 'India': 91, 'Indonesia': 62, 'Brazil': 55, 'Japan': 81}"
      ]
     },
     "execution_count": 4,
     "metadata": {},
     "output_type": "execute_result"
    }
   ],
   "source": [
    "country_code = {country: code for code, country in DIAL_CODES}\n",
    "country_code"
   ]
  },
  {
   "cell_type": "markdown",
   "metadata": {},
   "source": [
    "交换键与值，并将国家名称大写"
   ]
  },
  {
   "cell_type": "code",
   "execution_count": 5,
   "metadata": {},
   "outputs": [
    {
     "data": {
      "text/plain": [
       "{86: 'CHINA', 91: 'INDIA', 62: 'INDONESIA', 55: 'BRAZIL', 81: 'JAPAN'}"
      ]
     },
     "execution_count": 5,
     "metadata": {},
     "output_type": "execute_result"
    }
   ],
   "source": [
    "country_code = {code: country.upper() for code, country in DIAL_CODES}\n",
    "country_code"
   ]
  }
 ],
 "metadata": {
  "kernelspec": {
   "display_name": "Python 3",
   "language": "python",
   "name": "python3"
  },
  "language_info": {
   "codemirror_mode": {
    "name": "ipython",
    "version": 3
   },
   "file_extension": ".py",
   "mimetype": "text/x-python",
   "name": "python",
   "nbconvert_exporter": "python",
   "pygments_lexer": "ipython3",
   "version": "3.7.2"
  }
 },
 "nbformat": 4,
 "nbformat_minor": 2
}
