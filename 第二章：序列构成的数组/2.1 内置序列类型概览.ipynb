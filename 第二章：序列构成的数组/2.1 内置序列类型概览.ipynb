{
 "cells": [
  {
   "cell_type": "markdown",
   "metadata": {},
   "source": [
    "# 内置序列类型概览\n",
    "\n",
    "Python标准库用C实现了丰富的序列类型，举例如下：\n",
    "\n",
    "容器序列\n",
    "\n",
    "    list、tuple和collections.deque\n",
    "\n",
    "扁平序列\n",
    "\n",
    "    str、bytes、bytearray、memoryview和array.array\n",
    "\n",
    "容器序列存放的是它们所包含的任意类型的对象的引用，而扁平序列存放的是值而不是引用。换句话说，扁平序列其实是一段连续的内存空间，但是它也只能存放单一的数据类型。"
   ]
  },
  {
   "cell_type": "markdown",
   "metadata": {},
   "source": [
    "可变序列\n",
    "\n",
    "    list、bytearray、array.array、collections.deque和memoryview\n",
    "\n",
    "不可变序列\n",
    "    \n",
    "    tuple、str和bytes\n",
    "\n",
    "下图显示了可变序列和不可变序列的差异,同时也能看出前者从后者那里继承了一些方法。\n",
    "\n",
    "虽然内置的序列类型并不是直接从 `Sequence` 和 `MutableSequence` 这两个抽象基类继承而来的。但是了解这些基类可以帮助我们总结出那些完整的序列类型包含了哪些功能。\n",
    "\n",
    "方便我们今后实现自己的序列类型的时候与Python内置序列类型保持一致。\n",
    "\n",
    "![UML](./images/sqe.png)"
   ]
  }
 ],
 "metadata": {
  "kernelspec": {
   "display_name": "Python 3",
   "language": "python",
   "name": "python3"
  },
  "language_info": {
   "codemirror_mode": {
    "name": "ipython",
    "version": 3
   },
   "file_extension": ".py",
   "mimetype": "text/x-python",
   "name": "python",
   "nbconvert_exporter": "python",
   "pygments_lexer": "ipython3",
   "version": "3.7.2"
  }
 },
 "nbformat": 4,
 "nbformat_minor": 2
}
